{
 "cells": [
  {
   "cell_type": "code",
   "execution_count": 19,
   "metadata": {},
   "outputs": [
    {
     "name": "stderr",
     "output_type": "stream",
     "text": [
      "C:\\Users\\Hp\\AppData\\Local\\Packages\\PythonSoftwareFoundation.Python.3.8_qbz5n2kfra8p0\\LocalCache\\local-packages\\Python38\\site-packages\\ipykernel\\ipkernel.py:287: DeprecationWarning: `should_run_async` will not call `transform_cell` automatically in the future. Please pass the result to `transformed_cell` argument and any exception that happen during thetransform in `preprocessing_exc_tuple` in IPython 7.17 and above.\n",
      "  and should_run_async(code)\n"
     ]
    }
   ],
   "source": [
    "import pandas as pd\n",
    "import numpy as np\n",
    "\n",
    "import re\n",
    "import string\n",
    "\n",
    "import spacy\n",
    "\n",
    "import gensim\n",
    "from gensim import corpora\n",
    "\n",
    "# libraries for visualization\n",
    "import pyLDAvis\n",
    "#import pyLDAvis.gensim\n",
    "import matplotlib.pyplot as plt\n",
    "import seaborn as sns\n",
    "%matplotlib inline\n",
    "\n",
    "import pyLDAvis.gensim_models as gensimvis"
   ]
  },
  {
   "cell_type": "code",
   "execution_count": 2,
   "metadata": {},
   "outputs": [
    {
     "name": "stderr",
     "output_type": "stream",
     "text": [
      "C:\\Users\\Hp\\AppData\\Local\\Packages\\PythonSoftwareFoundation.Python.3.8_qbz5n2kfra8p0\\LocalCache\\local-packages\\Python38\\site-packages\\ipykernel\\ipkernel.py:287: DeprecationWarning: `should_run_async` will not call `transform_cell` automatically in the future. Please pass the result to `transformed_cell` argument and any exception that happen during thetransform in `preprocessing_exc_tuple` in IPython 7.17 and above.\n",
      "  and should_run_async(code)\n"
     ]
    }
   ],
   "source": [
    "pd.set_option('display.max_colwidth', None)\n",
    "data = pd.read_csv('data_input.csv')"
   ]
  },
  {
   "cell_type": "code",
   "execution_count": 129,
   "metadata": {},
   "outputs": [
    {
     "name": "stderr",
     "output_type": "stream",
     "text": [
      "C:\\Users\\Hp\\AppData\\Local\\Packages\\PythonSoftwareFoundation.Python.3.8_qbz5n2kfra8p0\\LocalCache\\local-packages\\Python38\\site-packages\\ipykernel\\ipkernel.py:287: DeprecationWarning: `should_run_async` will not call `transform_cell` automatically in the future. Please pass the result to `transformed_cell` argument and any exception that happen during thetransform in `preprocessing_exc_tuple` in IPython 7.17 and above.\n",
      "  and should_run_async(code)\n"
     ]
    },
    {
     "data": {
      "text/html": [
       "<div>\n",
       "<style scoped>\n",
       "    .dataframe tbody tr th:only-of-type {\n",
       "        vertical-align: middle;\n",
       "    }\n",
       "\n",
       "    .dataframe tbody tr th {\n",
       "        vertical-align: top;\n",
       "    }\n",
       "\n",
       "    .dataframe thead th {\n",
       "        text-align: right;\n",
       "    }\n",
       "</style>\n",
       "<table border=\"1\" class=\"dataframe\">\n",
       "  <thead>\n",
       "    <tr style=\"text-align: right;\">\n",
       "      <th></th>\n",
       "      <th>id</th>\n",
       "      <th>abstract</th>\n",
       "    </tr>\n",
       "  </thead>\n",
       "  <tbody>\n",
       "    <tr>\n",
       "      <th>0</th>\n",
       "      <td>0</td>\n",
       "      <td>Turing machines G\\\"odel numbers important pillars theory computation. Thus, computational architecture needs show could relate Turing machines stable implementations Turing computation possible. In chapter, implement universal Turing computation neural field environment. To end, employ canonical symbologram representation Turing machine obtained G\\\"odel encoding symbolic repertoire generalized shifts. The resulting nonlinear dynamical automaton (NDA) piecewise affine-linear map acting unit square partitioned rectangular domains. Instead looking point dynamics phase space, consider functional dynamics probability distributions functions (p.d.f.s) phase space. This generally described Frobenius-Perron integral transformation regarded neural field equation unit square feature space dynamic field theory (DFT). Solving Frobenius-Perron equation yields uniform p.d.f.s rectangular support mapped onto uniform p.d.f.s rectangular support, again. We call resulting representation \\emph{dynamic field automaton}.</td>\n",
       "    </tr>\n",
       "    <tr>\n",
       "      <th>1</th>\n",
       "      <td>1</td>\n",
       "      <td>RNA-sequencing revolutionized biomedical research and, particular, ability study gene alternative splicing. The problem important implications human health, alternative splicing may involved malfunctions cellular level multiple diseases. However, high-dimensional nature data existence experimental biases pose serious data analysis challenges. We find standard data summaries used study alternative splicing severely limited, ignore substantial amount valuable information. Current data analysis methods based summaries hence suboptimal. Further, limited flexibility accounting technical biases. We propose novel data summaries Bayesian modeling framework overcome limitations determine biases nonparametric, highly flexible manner. These summaries adapt naturally rapid improvements sequencing technology. We provide efficient point estimates uncertainty assessments. The approach allows study alternative splicing patterns individual samples also basis downstream analyses. We found severalfold improvement estimation mean square error compared popular approaches simulations, substantially higher consistency replicates experimental data. Our findings indicate need adjusting routine summarization analysis alternative splicing RNA-seq studies. We provide software implementation R package casper.</td>\n",
       "    </tr>\n",
       "    <tr>\n",
       "      <th>2</th>\n",
       "      <td>2</td>\n",
       "      <td>Queuing models provide insight temporal inhomogeneity human dynamics, characterized broad distribution waiting times individuals performing tasks. We study queuing model agent trying execute task interest, priority may vary time due agent's \"state mind.\" However, execution disrupted tasks random priorities. By considering priority task interest either decreasing increasing algebraically time, analytically obtain numerically confirm bimodal unimodal waiting time distributions power-law decaying tails, respectively. These results also compared updating time distribution papers arXiv.org processing time distribution papers Physical Review journals. Our analysis helps understand human task execution realistic scenario.</td>\n",
       "    </tr>\n",
       "    <tr>\n",
       "      <th>3</th>\n",
       "      <td>3</td>\n",
       "      <td>In multiple-object auction, every bidder tries win many objects possible bidding algorithm. This paper studies position-randomized auctions, form special class multiple-object auctions bidding algorithm consists initial bid sequence algorithm randomly permuting sequence. We especially concerned situations bidders know bidding algorithms others. For case two bidders, give optimal bidding algorithm disadvantaged bidder. Our result generalizes previous work allowing bidders unequal budgets. One might naturally anticipate optimal expected numbers objects bidders would proportional budgets. Surprisingly, true. Our new algorithm runs optimal O(n) time straightforward manner. The case two bidders open.</td>\n",
       "    </tr>\n",
       "    <tr>\n",
       "      <th>4</th>\n",
       "      <td>4</td>\n",
       "      <td>In arXiv:1109.6438v1 [math.AG] introduced studied notion algebraic entropy. In paper give application algebraic entropy proving Kunz Regularity Criterion contracting self-maps finite length Noetherian local rings arbitrary characteristic. Some conditions Kunz Criterion already extended general case Avramov, Iyengar Miller arXiv:math/0312412v2 [math.AC], using different methods.</td>\n",
       "    </tr>\n",
       "    <tr>\n",
       "      <th>...</th>\n",
       "      <td>...</td>\n",
       "      <td>...</td>\n",
       "    </tr>\n",
       "    <tr>\n",
       "      <th>79995</th>\n",
       "      <td>79998</td>\n",
       "      <td>Recently SCRAM (Software Configuration And Management) has been adopted by the applications area of the LHC computing grid project as baseline configuration management and build support infrastructure tool.   SCRAM is a software engineering tool, that supports the configuration management and management processes for software development. It resolves the issues of configuration definition, assembly break-down, build, project organization, run-time environment, installation, distribution, deployment, and source code distribution. It was designed with a focus on supporting a distributed, multi-project development work-model.   We will describe the underlying technology, and the solutions SCRAM offers to the above software engineering processes, while taking a users view of the system under configuration management.</td>\n",
       "    </tr>\n",
       "    <tr>\n",
       "      <th>79996</th>\n",
       "      <td>79999</td>\n",
       "      <td>For each dimension $d$, $d$-dimensional integral simplices with exactly one interior integral point have bounded volume. This was first shown by Hensley. Explicit volume bounds were determined by Hensley, Lagarias and Ziegler, Pikhurko, and Averkov. In this paper we determine the exact upper volume bound for such simplices and characterize the volume-maximizing simplices. We also determine the sharp upper bound on the coefficient of asymmetry of an integral polytope with a single interior integral point. This result confirms a conjecture of Hensley from 1983. Moreover, for an integral simplex with precisely one interior integral point, we give bounds on the volumes of its faces, the barycentric coordinates of the interior integral point and its number of integral points. Furthermore, we prove a bound on the lattice diameter of integral polytopes with a fixed number of interior integral points. The presented results have applications in toric geometry and in integer optimization.</td>\n",
       "    </tr>\n",
       "    <tr>\n",
       "      <th>79997</th>\n",
       "      <td>80000</td>\n",
       "      <td>Often during the requirements engineering (RE) process, the value of a requirement is assessed, e.g., in requirement prioritisation, release planning, and trade-off analysis. In order to support these activities, this research evaluates Goal Oriented Requirements Engineering (GORE) methods for the description of a requirement's value. Specifically, we investigate the goal-to-goal contribution relationship for its ability to demonstrate the value of a requirement, and propose that it is enriched with concepts such as correlation, confidence, and utility.</td>\n",
       "    </tr>\n",
       "    <tr>\n",
       "      <th>79998</th>\n",
       "      <td>80001</td>\n",
       "      <td>In the framework of the game-theoretic probability of Shafer and Vovk (2001) it is of basic importance to construct an explicit strategy weakly forcing the strong law of large numbers (SLLN) in the bounded forecasting game. We present a simple finite-memory strategy based on the past average of Reality's moves, which weakly forces the strong law of large numbers with the convergence rate of $O(\\sqrt{\\log n/n})$. Our proof is very simple compared to a corresponding measure-theoretic result of Azuma (1967) on bounded martingale differences and this illustrates effectiveness of game-theoretic approach. We also discuss one-sided protocols and extension of results to linear protocols in general dimension.</td>\n",
       "    </tr>\n",
       "    <tr>\n",
       "      <th>79999</th>\n",
       "      <td>80002</td>\n",
       "      <td>The acoustic coupling between two air bubbles immersed in water is clearly demonstrated. The system is acoustically forced, and its response is detected. The experimental results confirm that both theoretically predicted eigenmodes, respectively symmetrical and antisymmetrical, do exist. Their frequencies, measured as a function of the bubbles spacing, follow theoretical estimations within a 10% accuracy.</td>\n",
       "    </tr>\n",
       "  </tbody>\n",
       "</table>\n",
       "<p>80000 rows × 2 columns</p>\n",
       "</div>"
      ],
      "text/plain": [
       "          id  \\\n",
       "0          0   \n",
       "1          1   \n",
       "2          2   \n",
       "3          3   \n",
       "4          4   \n",
       "...      ...   \n",
       "79995  79998   \n",
       "79996  79999   \n",
       "79997  80000   \n",
       "79998  80001   \n",
       "79999  80002   \n",
       "\n",
       "                                                                                                                                                                                                                                                                                                                                                                                                                                                                                                                                                                                                                                                                                                                                                                                                                                                                                                                                                                                                                                                                                                                                                                                                                                                                                                                                                    abstract  \n",
       "0                                                                                                                                                                                                                                                                                                    Turing machines G\\\"odel numbers important pillars theory computation. Thus, computational architecture needs show could relate Turing machines stable implementations Turing computation possible. In chapter, implement universal Turing computation neural field environment. To end, employ canonical symbologram representation Turing machine obtained G\\\"odel encoding symbolic repertoire generalized shifts. The resulting nonlinear dynamical automaton (NDA) piecewise affine-linear map acting unit square partitioned rectangular domains. Instead looking point dynamics phase space, consider functional dynamics probability distributions functions (p.d.f.s) phase space. This generally described Frobenius-Perron integral transformation regarded neural field equation unit square feature space dynamic field theory (DFT). Solving Frobenius-Perron equation yields uniform p.d.f.s rectangular support mapped onto uniform p.d.f.s rectangular support, again. We call resulting representation \\emph{dynamic field automaton}.  \n",
       "1      RNA-sequencing revolutionized biomedical research and, particular, ability study gene alternative splicing. The problem important implications human health, alternative splicing may involved malfunctions cellular level multiple diseases. However, high-dimensional nature data existence experimental biases pose serious data analysis challenges. We find standard data summaries used study alternative splicing severely limited, ignore substantial amount valuable information. Current data analysis methods based summaries hence suboptimal. Further, limited flexibility accounting technical biases. We propose novel data summaries Bayesian modeling framework overcome limitations determine biases nonparametric, highly flexible manner. These summaries adapt naturally rapid improvements sequencing technology. We provide efficient point estimates uncertainty assessments. The approach allows study alternative splicing patterns individual samples also basis downstream analyses. We found severalfold improvement estimation mean square error compared popular approaches simulations, substantially higher consistency replicates experimental data. Our findings indicate need adjusting routine summarization analysis alternative splicing RNA-seq studies. We provide software implementation R package casper.  \n",
       "2                                                                                                                                                                                                                                                                                                                                                                                                                                                                                                                                                                                                       Queuing models provide insight temporal inhomogeneity human dynamics, characterized broad distribution waiting times individuals performing tasks. We study queuing model agent trying execute task interest, priority may vary time due agent's \"state mind.\" However, execution disrupted tasks random priorities. By considering priority task interest either decreasing increasing algebraically time, analytically obtain numerically confirm bimodal unimodal waiting time distributions power-law decaying tails, respectively. These results also compared updating time distribution papers arXiv.org processing time distribution papers Physical Review journals. Our analysis helps understand human task execution realistic scenario.  \n",
       "3                                                                                                                                                                                                                                                                                                                                                                                                                                                                                                                                                                                                                           In multiple-object auction, every bidder tries win many objects possible bidding algorithm. This paper studies position-randomized auctions, form special class multiple-object auctions bidding algorithm consists initial bid sequence algorithm randomly permuting sequence. We especially concerned situations bidders know bidding algorithms others. For case two bidders, give optimal bidding algorithm disadvantaged bidder. Our result generalizes previous work allowing bidders unequal budgets. One might naturally anticipate optimal expected numbers objects bidders would proportional budgets. Surprisingly, true. Our new algorithm runs optimal O(n) time straightforward manner. The case two bidders open.  \n",
       "4                                                                                                                                                                                                                                                                                                                                                                                                                                                                                                                                                                                                                                                                                                                                                                                                                                                                                                                                                               In arXiv:1109.6438v1 [math.AG] introduced studied notion algebraic entropy. In paper give application algebraic entropy proving Kunz Regularity Criterion contracting self-maps finite length Noetherian local rings arbitrary characteristic. Some conditions Kunz Criterion already extended general case Avramov, Iyengar Miller arXiv:math/0312412v2 [math.AC], using different methods.  \n",
       "...                                                                                                                                                                                                                                                                                                                                                                                                                                                                                                                                                                                                                                                                                                                                                                                                                                                                                                                                                                                                                                                                                                                                                                                                                                                                                                                                                      ...  \n",
       "79995                                                                                                                                                                                                                                                                                                                                                                                                                                                                                               Recently SCRAM (Software Configuration And Management) has been adopted by the applications area of the LHC computing grid project as baseline configuration management and build support infrastructure tool.   SCRAM is a software engineering tool, that supports the configuration management and management processes for software development. It resolves the issues of configuration definition, assembly break-down, build, project organization, run-time environment, installation, distribution, deployment, and source code distribution. It was designed with a focus on supporting a distributed, multi-project development work-model.   We will describe the underlying technology, and the solutions SCRAM offers to the above software engineering processes, while taking a users view of the system under configuration management.  \n",
       "79996                                                                                                                                                                                                                                                                                                                      For each dimension $d$, $d$-dimensional integral simplices with exactly one interior integral point have bounded volume. This was first shown by Hensley. Explicit volume bounds were determined by Hensley, Lagarias and Ziegler, Pikhurko, and Averkov. In this paper we determine the exact upper volume bound for such simplices and characterize the volume-maximizing simplices. We also determine the sharp upper bound on the coefficient of asymmetry of an integral polytope with a single interior integral point. This result confirms a conjecture of Hensley from 1983. Moreover, for an integral simplex with precisely one interior integral point, we give bounds on the volumes of its faces, the barycentric coordinates of the interior integral point and its number of integral points. Furthermore, we prove a bound on the lattice diameter of integral polytopes with a fixed number of interior integral points. The presented results have applications in toric geometry and in integer optimization.  \n",
       "79997                                                                                                                                                                                                                                                                                                                                                                                                                                                                                                                                                                                                                                                                                                                                                                        Often during the requirements engineering (RE) process, the value of a requirement is assessed, e.g., in requirement prioritisation, release planning, and trade-off analysis. In order to support these activities, this research evaluates Goal Oriented Requirements Engineering (GORE) methods for the description of a requirement's value. Specifically, we investigate the goal-to-goal contribution relationship for its ability to demonstrate the value of a requirement, and propose that it is enriched with concepts such as correlation, confidence, and utility.  \n",
       "79998                                                                                                                                                                                                                                                                                                                                                                                                                                                                                                                                                                                                                  In the framework of the game-theoretic probability of Shafer and Vovk (2001) it is of basic importance to construct an explicit strategy weakly forcing the strong law of large numbers (SLLN) in the bounded forecasting game. We present a simple finite-memory strategy based on the past average of Reality's moves, which weakly forces the strong law of large numbers with the convergence rate of $O(\\sqrt{\\log n/n})$. Our proof is very simple compared to a corresponding measure-theoretic result of Azuma (1967) on bounded martingale differences and this illustrates effectiveness of game-theoretic approach. We also discuss one-sided protocols and extension of results to linear protocols in general dimension.  \n",
       "79999                                                                                                                                                                                                                                                                                                                                                                                                                                                                                                                                                                                                                                                                                                                                                                                                                                                                                                                               The acoustic coupling between two air bubbles immersed in water is clearly demonstrated. The system is acoustically forced, and its response is detected. The experimental results confirm that both theoretically predicted eigenmodes, respectively symmetrical and antisymmetrical, do exist. Their frequencies, measured as a function of the bubbles spacing, follow theoretical estimations within a 10% accuracy.  \n",
       "\n",
       "[80000 rows x 2 columns]"
      ]
     },
     "execution_count": 129,
     "metadata": {},
     "output_type": "execute_result"
    }
   ],
   "source": [
    "sample = data.head(80000)\n",
    "sample"
   ]
  },
  {
   "cell_type": "code",
   "execution_count": 130,
   "metadata": {},
   "outputs": [
    {
     "name": "stderr",
     "output_type": "stream",
     "text": [
      "C:\\Users\\Hp\\AppData\\Local\\Packages\\PythonSoftwareFoundation.Python.3.8_qbz5n2kfra8p0\\LocalCache\\local-packages\\Python38\\site-packages\\ipykernel\\ipkernel.py:287: DeprecationWarning: `should_run_async` will not call `transform_cell` automatically in the future. Please pass the result to `transformed_cell` argument and any exception that happen during thetransform in `preprocessing_exc_tuple` in IPython 7.17 and above.\n",
      "  and should_run_async(code)\n"
     ]
    }
   ],
   "source": [
    "def clean_text(text ): \n",
    "    delete_dict = {sp_character: '' for sp_character in string.punctuation} \n",
    "    delete_dict[' '] = ' ' \n",
    "    table = str.maketrans(delete_dict)\n",
    "    text1 = text.translate(table)\n",
    "    #print('cleaned:'+text1)\n",
    "    textArr= text1.split()\n",
    "    text2 = ' '.join([w for w in textArr if ( not w.isdigit() and  ( not w.isdigit() and len(w)>3))]) \n",
    "    \n",
    "    return text2.lower()"
   ]
  },
  {
   "cell_type": "code",
   "execution_count": 131,
   "metadata": {},
   "outputs": [
    {
     "name": "stderr",
     "output_type": "stream",
     "text": [
      "C:\\Users\\Hp\\AppData\\Local\\Packages\\PythonSoftwareFoundation.Python.3.8_qbz5n2kfra8p0\\LocalCache\\local-packages\\Python38\\site-packages\\ipykernel\\ipkernel.py:287: DeprecationWarning: `should_run_async` will not call `transform_cell` automatically in the future. Please pass the result to `transformed_cell` argument and any exception that happen during thetransform in `preprocessing_exc_tuple` in IPython 7.17 and above.\n",
      "  and should_run_async(code)\n",
      "[nltk_data] Downloading package stopwords to\n",
      "[nltk_data]     C:\\Users\\Hp\\AppData\\Roaming\\nltk_data...\n",
      "[nltk_data]   Package stopwords is already up-to-date!\n"
     ]
    },
    {
     "data": {
      "text/plain": [
       "True"
      ]
     },
     "execution_count": 131,
     "metadata": {},
     "output_type": "execute_result"
    }
   ],
   "source": [
    "import nltk\n",
    "nltk.download('stopwords') # run this one time"
   ]
  },
  {
   "cell_type": "code",
   "execution_count": 132,
   "metadata": {},
   "outputs": [
    {
     "name": "stderr",
     "output_type": "stream",
     "text": [
      "C:\\Users\\Hp\\AppData\\Local\\Packages\\PythonSoftwareFoundation.Python.3.8_qbz5n2kfra8p0\\LocalCache\\local-packages\\Python38\\site-packages\\ipykernel\\ipkernel.py:287: DeprecationWarning: `should_run_async` will not call `transform_cell` automatically in the future. Please pass the result to `transformed_cell` argument and any exception that happen during thetransform in `preprocessing_exc_tuple` in IPython 7.17 and above.\n",
      "  and should_run_async(code)\n",
      "<ipython-input-132-08de8df57289>:10: SettingWithCopyWarning: \n",
      "A value is trying to be set on a copy of a slice from a DataFrame.\n",
      "Try using .loc[row_indexer,col_indexer] = value instead\n",
      "\n",
      "See the caveats in the documentation: https://pandas.pydata.org/pandas-docs/stable/user_guide/indexing.html#returning-a-view-versus-a-copy\n",
      "  sample['abstract']=sample['abstract'].apply(remove_stopwords)\n"
     ]
    }
   ],
   "source": [
    "from nltk.corpus import stopwords\n",
    "stop_words = stopwords.words('english')\n",
    "# function to remove stopwords\n",
    "def remove_stopwords(text):\n",
    "    textArr = text.split(' ')\n",
    "    rem_text = \" \".join([i for i in textArr if i not in stop_words])\n",
    "    return rem_text\n",
    "\n",
    "# remove stopwords from the text\n",
    "sample['abstract']=sample['abstract'].apply(remove_stopwords)\n",
    "\n"
   ]
  },
  {
   "cell_type": "code",
   "execution_count": 133,
   "metadata": {},
   "outputs": [
    {
     "name": "stderr",
     "output_type": "stream",
     "text": [
      "C:\\Users\\Hp\\AppData\\Local\\Packages\\PythonSoftwareFoundation.Python.3.8_qbz5n2kfra8p0\\LocalCache\\local-packages\\Python38\\site-packages\\ipykernel\\ipkernel.py:287: DeprecationWarning: `should_run_async` will not call `transform_cell` automatically in the future. Please pass the result to `transformed_cell` argument and any exception that happen during thetransform in `preprocessing_exc_tuple` in IPython 7.17 and above.\n",
      "  and should_run_async(code)\n"
     ]
    }
   ],
   "source": [
    "nlp = spacy.load('en_core_web_md', disable=['parser', 'ner'])\n",
    "\n",
    "def lemmatization(texts,allowed_postags=['VERB', 'ADV','ADJ']): \n",
    "       output = []\n",
    "       for sent in texts:\n",
    "             doc = nlp(sent) \n",
    "             output.append([token.lemma_ for token in doc if token.pos_ in allowed_postags ])\n",
    "       return output"
   ]
  },
  {
   "cell_type": "code",
   "execution_count": 134,
   "metadata": {},
   "outputs": [
    {
     "name": "stderr",
     "output_type": "stream",
     "text": [
      "C:\\Users\\Hp\\AppData\\Local\\Packages\\PythonSoftwareFoundation.Python.3.8_qbz5n2kfra8p0\\LocalCache\\local-packages\\Python38\\site-packages\\ipykernel\\ipkernel.py:287: DeprecationWarning: `should_run_async` will not call `transform_cell` automatically in the future. Please pass the result to `transformed_cell` argument and any exception that happen during thetransform in `preprocessing_exc_tuple` in IPython 7.17 and above.\n",
      "  and should_run_async(code)\n"
     ]
    },
    {
     "name": "stdout",
     "output_type": "stream",
     "text": [
      "RNA-sequencing revolutionized biomedical research and, particular, ability study gene alternative splicing. The problem important implications human health, alternative splicing may involved malfunctions cellular level multiple diseases. However, high-dimensional nature data existence experimental biases pose serious data analysis challenges. We find standard data summaries used study alternative splicing severely limited, ignore substantial amount valuable information. Current data analysis methods based summaries hence suboptimal. Further, limited flexibility accounting technical biases. We propose novel data summaries Bayesian modeling framework overcome limitations determine biases nonparametric, highly flexible manner. These summaries adapt naturally rapid improvements sequencing technology. We provide efficient point estimates uncertainty assessments. The approach allows study alternative splicing patterns individual samples also basis downstream analyses. We found severalfold improvement estimation mean square error compared popular approaches simulations, substantially higher consistency replicates experimental data. Our findings indicate need adjusting routine summarization analysis alternative splicing RNA-seq studies. We provide software implementation R package casper.\n",
      "['sequence', 'revolutionize', 'biomedical', 'particular', 'important', 'human', 'involve', 'cellular', 'multiple', 'however', 'high', 'dimensional', 'experimental', 'pose', 'serious', 'find', 'standard', 'use', 'severely', 'limited', 'ignore', 'substantial', 'valuable', 'current', 'base', 'hence', 'suboptimal', 'far', 'limited', 'account', 'technical', 'propose', 'novel', 'bayesian', 'overcome', 'determine', 'nonparametric', 'highly', 'flexible', 'adapt', 'naturally', 'rapid', 'sequence', 'provide', 'efficient', 'estimate', 'allow', 'individual', 'also', 'basis', 'downstream', 'find', 'compare', 'popular', 'substantially', 'high', 'replicate', 'experimental', 'indicate', 'need', 'adjust', 'routine', 'provide']\n"
     ]
    }
   ],
   "source": [
    " \n",
    "text_list=sample['abstract'].tolist()\n",
    "print(text_list[1])\n",
    "tokenized_reviews = lemmatization(text_list)\n",
    "print(tokenized_reviews[1])"
   ]
  },
  {
   "cell_type": "markdown",
   "metadata": {},
   "source": [
    "***\n",
    "Create vocabulary dictionary and document term matrix\n",
    "***"
   ]
  },
  {
   "cell_type": "code",
   "execution_count": 135,
   "metadata": {},
   "outputs": [
    {
     "name": "stderr",
     "output_type": "stream",
     "text": [
      "C:\\Users\\Hp\\AppData\\Local\\Packages\\PythonSoftwareFoundation.Python.3.8_qbz5n2kfra8p0\\LocalCache\\local-packages\\Python38\\site-packages\\ipykernel\\ipkernel.py:287: DeprecationWarning: `should_run_async` will not call `transform_cell` automatically in the future. Please pass the result to `transformed_cell` argument and any exception that happen during thetransform in `preprocessing_exc_tuple` in IPython 7.17 and above.\n",
      "  and should_run_async(code)\n"
     ]
    }
   ],
   "source": [
    "dictionary = corpora.Dictionary(tokenized_reviews)\n",
    "doc_term_matrix = [dictionary.doc2bow(rev) for rev in tokenized_reviews]"
   ]
  },
  {
   "cell_type": "code",
   "execution_count": 136,
   "metadata": {},
   "outputs": [
    {
     "name": "stderr",
     "output_type": "stream",
     "text": [
      "C:\\Users\\Hp\\AppData\\Local\\Packages\\PythonSoftwareFoundation.Python.3.8_qbz5n2kfra8p0\\LocalCache\\local-packages\\Python38\\site-packages\\ipykernel\\ipkernel.py:287: DeprecationWarning: `should_run_async` will not call `transform_cell` automatically in the future. Please pass the result to `transformed_cell` argument and any exception that happen during thetransform in `preprocessing_exc_tuple` in IPython 7.17 and above.\n",
      "  and should_run_async(code)\n"
     ]
    }
   ],
   "source": [
    "# Creating the object for LDA model using gensim library\n",
    "LDA = gensim.models.ldamodel.LdaModel\n",
    "\n",
    "# Build LDA model\n",
    "lda_model = LDA(corpus=doc_term_matrix, id2word=dictionary, num_topics=4, random_state=100,\n",
    "                chunksize=1000, passes=50,iterations=100)"
   ]
  },
  {
   "cell_type": "code",
   "execution_count": 137,
   "metadata": {},
   "outputs": [
    {
     "name": "stderr",
     "output_type": "stream",
     "text": [
      "C:\\Users\\Hp\\AppData\\Local\\Packages\\PythonSoftwareFoundation.Python.3.8_qbz5n2kfra8p0\\LocalCache\\local-packages\\Python38\\site-packages\\ipykernel\\ipkernel.py:287: DeprecationWarning: `should_run_async` will not call `transform_cell` automatically in the future. Please pass the result to `transformed_cell` argument and any exception that happen during thetransform in `preprocessing_exc_tuple` in IPython 7.17 and above.\n",
      "  and should_run_async(code)\n"
     ]
    },
    {
     "data": {
      "text/plain": [
       "[(0,\n",
       "  '0.027*\"use\" + 0.017*\"base\" + 0.013*\"present\" + 0.012*\"propose\" + 0.009*\"new\" + 0.009*\"provide\" + 0.009*\"different\" + 0.008*\"also\" + 0.007*\"well\" + 0.007*\"make\"'),\n",
       " (1,\n",
       "  '0.020*\"use\" + 0.018*\"propose\" + 0.017*\"show\" + 0.014*\"base\" + 0.013*\"-\" + 0.010*\"random\" + 0.009*\"optimal\" + 0.009*\"well\" + 0.009*\"linear\" + 0.008*\"also\"'),\n",
       " (2,\n",
       "  '0.015*\"use\" + 0.013*\"-\" + 0.012*\"show\" + 0.011*\"high\" + 0.009*\"present\" + 0.009*\"find\" + 0.008*\"optical\" + 0.008*\"magnetic\" + 0.007*\"large\" + 0.007*\"low\"'),\n",
       " (3,\n",
       "  '0.022*\"give\" + 0.020*\"show\" + 0.019*\"prove\" + 0.015*\"-\" + 0.013*\"also\" + 0.010*\"define\" + 0.010*\"set\" + 0.010*\"finite\" + 0.009*\"non\" + 0.008*\"use\"')]"
      ]
     },
     "execution_count": 137,
     "metadata": {},
     "output_type": "execute_result"
    }
   ],
   "source": [
    "lda_model.print_topics()"
   ]
  },
  {
   "cell_type": "code",
   "execution_count": 138,
   "metadata": {},
   "outputs": [
    {
     "name": "stderr",
     "output_type": "stream",
     "text": [
      "C:\\Users\\Hp\\AppData\\Local\\Packages\\PythonSoftwareFoundation.Python.3.8_qbz5n2kfra8p0\\LocalCache\\local-packages\\Python38\\site-packages\\ipykernel\\ipkernel.py:287: DeprecationWarning: `should_run_async` will not call `transform_cell` automatically in the future. Please pass the result to `transformed_cell` argument and any exception that happen during thetransform in `preprocessing_exc_tuple` in IPython 7.17 and above.\n",
      "  and should_run_async(code)\n",
      "C:\\Users\\Hp\\AppData\\Local\\Packages\\PythonSoftwareFoundation.Python.3.8_qbz5n2kfra8p0\\LocalCache\\local-packages\\Python38\\site-packages\\pyLDAvis\\_prepare.py:246: FutureWarning: In a future version of pandas all arguments of DataFrame.drop except for the argument 'labels' will be keyword-only\n",
      "  default_term_info = default_term_info.sort_values(\n"
     ]
    },
    {
     "data": {
      "text/html": [
       "\n",
       "<link rel=\"stylesheet\" type=\"text/css\" href=\"https://cdn.jsdelivr.net/gh/bmabey/pyLDAvis@3.3.1/pyLDAvis/js/ldavis.v1.0.0.css\">\n",
       "\n",
       "\n",
       "<div id=\"ldavis_el455222215427989447509428777\"></div>\n",
       "<script type=\"text/javascript\">\n",
       "\n",
       "var ldavis_el455222215427989447509428777_data = {\"mdsDat\": {\"x\": [0.11675199082233906, -0.2263277571625117, 0.015786960770373646, 0.09378880556979918], \"y\": [-0.09872609934355929, 0.015237707877547791, -0.09159922302528799, 0.1750876144912994], \"topics\": [1, 2, 3, 4], \"cluster\": [1, 1, 1, 1], \"Freq\": [32.61578002906187, 23.68394343778066, 23.17156855935379, 20.528707973803687]}, \"tinfo\": {\"Term\": [\"prove\", \"propose\", \"give\", \"random\", \"optimal\", \"base\", \"optical\", \"magnetic\", \"define\", \"finite\", \"estimate\", \"let\", \"theorem\", \"numerical\", \"set\", \"show\", \"linear\", \"compact\", \"infinite\", \"gaussian\", \"high\", \"manifold\", \"approximate\", \"polynomial\", \"efficient\", \"stochastic\", \"generalize\", \"observe\", \"bayesian\", \"sparse\", \"social\", \"human\", \"scientific\", \"share\", \"semantic\", \"modern\", \"digital\", \"automatically\", \"fuzzy\", \"collect\", \"mobile\", \"publish\", \"automatic\", \"neural\", \"visual\", \"automate\", \"secure\", \"try\", \"public\", \"comprehensive\", \"store\", \"medical\", \"increasingly\", \"outline\", \"manage\", \"operational\", \"conceptual\", \"reason\", \"remote\", \"interactive\", \"briefly\", \"help\", \"future\", \"implement\", \"aim\", \"build\", \"major\", \"need\", \"make\", \"base\", \"extract\", \"design\", \"use\", \"different\", \"available\", \"present\", \"propose\", \"many\", \"however\", \"provide\", \"new\", \"important\", \"identify\", \"develop\", \"describe\", \"well\", \"specific\", \"key\", \"allow\", \"become\", \"require\", \"also\", \"various\", \"several\", \"include\", \"exist\", \"take\", \"discuss\", \"high\", \"first\", \"-\", \"show\", \"large\", \"real\", \"introduce\", \"find\", \"let\", \"theorem\", \"infinite\", \"manifold\", \"topological\", \"metric\", \"symplectic\", \"regular\", \"algebraic\", \"invariant\", \"value\", \"maximal\", \"admit\", \"rational\", \"hyperbolic\", \"conjecture\", \"canonical\", \"finitely\", \"projective\", \"singular\", \"euclidean\", \"bounded\", \"algebra\", \"cyclic\", \"isomorphic\", \"lagrangian\", \"denote\", \"boolean\", \"commutative\", \"prime\", \"prove\", \"compact\", \"finite\", \"symmetric\", \"give\", \"polynomial\", \"define\", \"geometric\", \"positive\", \"generalize\", \"certain\", \"complete\", \"construct\", \"show\", \"minimal\", \"set\", \"bound\", \"non\", \"-\", \"also\", \"complex\", \"study\", \"free\", \"obtain\", \"particular\", \"introduce\", \"associate\", \"dimensional\", \"general\", \"consider\", \"use\", \"first\", \"new\", \"random\", \"optimal\", \"estimate\", \"gaussian\", \"stochastic\", \"bayesian\", \"sparse\", \"sample\", \"unknown\", \"conditional\", \"parametric\", \"posterior\", \"nonparametric\", \"variational\", \"noisy\", \"evolutionary\", \"marginal\", \"exponentially\", \"randomize\", \"reversible\", \"greedy\", \"logistic\", \"optimum\", \"squared\", \"causal\", \"penalize\", \"boost\", \"randomized\", \"cumulative\", \"intractable\", \"approximate\", \"prior\", \"maximum\", \"minimize\", \"deterministic\", \"variable\", \"adaptive\", \"asymptotically\", \"asymptotic\", \"statistical\", \"empirical\", \"algorithm\", \"propose\", \"linear\", \"bind\", \"solve\", \"efficient\", \"fit\", \"show\", \"base\", \"use\", \"consider\", \"well\", \"-\", \"low\", \"large\", \"derive\", \"obtain\", \"apply\", \"provide\", \"new\", \"also\", \"give\", \"set\", \"present\", \"know\", \"non\", \"high\", \"compare\", \"optical\", \"magnetic\", \"molecular\", \"electric\", \"scatter\", \"thermal\", \"electromagnetic\", \"relativistic\", \"atomic\", \"solar\", \"fluid\", \"mechanical\", \"angular\", \"turbulent\", \"gravitational\", \"thin\", \"charge\", \"propagate\", \"dark\", \"vertical\", \"cool\", \"solid\", \"transverse\", \"radial\", \"inertial\", \"circular\", \"liquid\", \"elastic\", \"rotate\", \"steady\", \"couple\", \"nuclear\", \"light\", \"observe\", \"nonlinear\", \"coherent\", \"high\", \"numerical\", \"experimental\", \"calculate\", \"measure\", \"find\", \"low\", \"-\", \"due\", \"potential\", \"use\", \"show\", \"investigate\", \"long\", \"large\", \"present\", \"small\", \"demonstrate\", \"study\", \"single\", \"obtain\", \"also\", \"different\", \"non\", \"describe\", \"well\", \"discuss\"], \"Freq\": [13187.0, 20863.0, 21749.0, 6152.0, 5547.0, 24528.0, 4142.0, 3987.0, 8786.0, 7446.0, 3696.0, 3728.0, 3359.0, 5675.0, 12404.0, 33650.0, 8660.0, 3733.0, 2986.0, 2872.0, 14109.0, 2755.0, 3192.0, 4174.0, 5246.0, 2572.0, 4159.0, 4986.0, 2494.0, 2438.0, 2429.397685285922, 2038.7133144651714, 1485.2542235311084, 1465.9308251427349, 1334.0996932490611, 1196.4135045654546, 1137.0014185471048, 1136.9769204015404, 1042.852323126278, 1047.8631660428666, 987.0048145024371, 1027.9079682575718, 950.6261377025435, 895.9312084985976, 787.6234001272396, 778.3464287547664, 755.2564890932715, 771.5202926948156, 664.6670617163542, 685.4559741697511, 659.5769400787024, 638.6573222415293, 643.9663717514485, 627.1176263171186, 582.4950318901563, 560.5936411479965, 553.3053456276728, 527.6960827824244, 536.7783327836046, 522.8181325840371, 582.266917213302, 1266.601372111999, 1533.5382213564776, 2837.098545787715, 1623.0938172690835, 2183.937932512505, 1346.4944911115113, 3040.4121555631846, 5839.659511015821, 14345.946055329918, 1309.1971338529463, 2441.135991176159, 22863.22021235945, 7159.772026940735, 2479.156529803196, 10771.538293839132, 10067.711238082398, 5096.953509388657, 3967.7507643944714, 7854.922072854169, 7873.0561446043, 3285.2580936894, 2693.2707108970153, 4771.324936263263, 4961.451544254832, 6193.527057647552, 2156.834234180386, 1995.9764939575011, 4151.134549463981, 2332.0070574615033, 3277.589785268235, 6500.750912843245, 2759.6097447886114, 3480.060347748721, 3600.7491008645015, 3316.2956886819, 2820.4295020282902, 3262.9671143823593, 4241.977172952497, 3929.7630843912475, 4893.640288472641, 5070.702385408131, 3736.9043498800493, 3052.092326965138, 3099.8187975491865, 2965.209070431201, 3727.7856982951694, 3358.2861809954443, 2985.984421535854, 2754.6579758618395, 2226.3463821047935, 2246.470908377831, 2089.463742428961, 2209.749648296919, 2061.7482572700233, 2038.1207871120384, 1721.1256138841256, 1489.0448161413808, 1455.758589905165, 1435.3588938432529, 1240.7959225994957, 1207.8393636064927, 1180.081452320538, 1121.4698637349557, 1108.3304004273689, 1091.032258968839, 1056.4117628045794, 1042.2767326595133, 981.5242835846565, 1022.2484946348144, 953.1661943754051, 1026.372017692156, 965.3815305136346, 932.8790934425989, 868.0742786082928, 846.1010038486388, 11732.811724334237, 3491.8659360940956, 5787.345021544305, 2014.7015649984814, 13457.945865999645, 3313.734088518475, 6131.556025809644, 2109.1522890672913, 2814.608846447043, 3141.105636720341, 3431.3209585455347, 2977.825898488192, 3620.9373681048373, 12300.032523897276, 1834.7067798322, 5881.5284821906735, 2161.5572388182377, 5441.092480518001, 9337.912904697498, 7707.480655420247, 3520.3813761138654, 4579.920883360634, 3250.984646586392, 4643.990123746487, 3770.3504690952814, 3926.5661512902116, 2822.978582426545, 3390.1793337032746, 3350.7796508082347, 3773.917934577722, 4910.682028843353, 3472.2561707498603, 3634.0291814361567, 6151.770624535815, 5546.401617961019, 3696.1365244769117, 2871.312585314988, 2572.0705762620037, 2494.1880464017204, 2437.610801459019, 1877.4192482102028, 1792.111776829077, 1371.2926180544964, 1407.2923889343274, 1269.197013126216, 907.1696803397282, 741.5635653072408, 732.8506237266599, 763.8162889518047, 604.2571922704547, 632.1631925995484, 475.8419149326523, 481.260645625286, 455.48538098405635, 421.7036098853641, 437.8071674985743, 391.4435164662295, 401.569811750627, 381.68837847289484, 347.4891762861519, 330.5926446429196, 339.0165476557486, 300.030183039886, 3002.6478428407704, 1934.1822789945415, 2373.9247962531017, 1401.8130188480293, 1362.2659125041912, 1429.2558668150336, 1479.9646273845278, 929.7438342099354, 2338.0525200437773, 2857.312758830504, 1823.4836154871841, 1046.571911053216, 10795.154703054279, 5060.231149811912, 2991.327476397983, 3495.9762457955644, 3220.8325251679, 1184.4765973785165, 9934.203498342018, 8009.182049843677, 12073.779000868903, 4853.727355151862, 5352.180408459627, 7521.08659173988, 3507.4397156821706, 4226.290029466766, 3000.736389698333, 3981.174826077192, 3404.664369395751, 4336.093467665833, 4444.258951582269, 4893.171415965691, 4680.52743377221, 3732.319871106584, 4482.507076472756, 3231.8567393099656, 3511.9402913641247, 3301.535408421902, 2916.4534339955894, 4141.639035354762, 3986.713374337, 1992.3992167725987, 1904.84280775478, 1861.352554145865, 1535.037489492477, 1481.4937967265998, 1347.9873750306415, 1313.8090839518015, 1254.8408269938088, 1233.6673188267814, 1161.1795651935354, 1120.78175495175, 1046.221195392408, 1047.802416632878, 926.3665589067193, 905.6948538274213, 853.2773268742076, 808.4233143067135, 816.6151686397432, 789.8520109579943, 759.9125211110086, 736.5485424236039, 723.4259725414366, 699.8524248288554, 700.9443865290889, 660.5406410477583, 662.3175416291086, 647.8714133283743, 645.6876123039806, 2383.96985389142, 1028.1080680613593, 1719.1002816339724, 3086.8789270860248, 2068.566818923834, 1160.133739272859, 5953.436377709087, 3087.0776658287323, 2930.4411873090917, 2043.6914345456605, 2297.420110450887, 4475.726204410461, 3493.470982425203, 6975.226169116511, 2364.3701020244043, 1935.2516710301245, 7745.307468833375, 6345.871968912548, 2608.6023946574, 2122.0390440630235, 3643.4763910480774, 4726.010238610188, 2806.0598598795914, 2750.089449584225, 3135.2918806112893, 2308.6177658912948, 3006.0982364833717, 3239.7188103139424, 2632.224158542781, 2463.146438927934, 2363.8504932180394, 2226.3878978310418, 2131.8489548345256], \"Total\": [13187.0, 20863.0, 21749.0, 6152.0, 5547.0, 24528.0, 4142.0, 3987.0, 8786.0, 7446.0, 3696.0, 3728.0, 3359.0, 5675.0, 12404.0, 33650.0, 8660.0, 3733.0, 2986.0, 2872.0, 14109.0, 2755.0, 3192.0, 4174.0, 5246.0, 2572.0, 4159.0, 4986.0, 2494.0, 2438.0, 2430.166310102946, 2039.4811721263152, 1486.0179784441968, 1466.722635771775, 1334.8603094408045, 1197.2005595830221, 1137.77598619705, 1137.7723941920485, 1043.6222703874894, 1048.6633071454858, 987.7680910917593, 1028.7085820638952, 951.4089276813796, 896.7176735751891, 788.3950628161915, 779.1149609413777, 756.0230158108185, 772.3063247407412, 665.4329178627072, 686.2642457830706, 660.3667519524976, 639.4317745878716, 644.7587217466767, 627.9460874140777, 583.2650152050571, 561.3781862932598, 554.0976922060836, 528.4629051293941, 537.5650282164374, 523.5885389630748, 583.145297973701, 1299.239603421096, 1683.3447342004974, 3348.6288905446536, 1840.5345186108664, 2608.9686895222867, 1517.2465451274372, 3916.5235887363815, 8394.278248745535, 24528.56329316635, 1491.368156301457, 3135.062728342905, 47592.988710905076, 12145.584042635655, 3374.2910239685166, 22335.760593561252, 20863.3971961803, 8838.62793836918, 6372.402975066914, 15893.707139669572, 17400.840157764833, 5214.877201731477, 3981.910974453281, 9003.181135760397, 10166.991770191855, 15738.462346047352, 3048.600588794904, 2737.5766670913695, 9255.317697783545, 3542.5950341150083, 6420.746478688483, 22341.121794543124, 4815.209520640307, 7565.32700993946, 8084.744173167031, 7263.004920094926, 5358.696319894718, 7501.4932996647385, 14109.67139161353, 12103.619885960758, 28727.86595402653, 33650.81037655997, 12575.23969606175, 7624.651383267787, 9994.611745293883, 11794.503416920357, 3728.5444620755966, 3359.0536299322603, 2986.773411181624, 2755.418588017662, 2227.116129380705, 2247.2579022787277, 2090.2145702716284, 2210.5466301774673, 2062.513883482659, 2038.8965894986964, 1721.9279955771742, 1489.8283135463716, 1456.5308390774371, 1436.1253774663737, 1241.558603717859, 1208.600233758825, 1180.8708915778466, 1122.223872441802, 1109.0834501704296, 1091.8198545382888, 1057.2028452828558, 1043.0667262216045, 982.2773635318637, 1023.035215559677, 953.9177849213443, 1027.1862925182797, 966.1579213930006, 933.6717896392663, 868.8297538355407, 846.8674969640834, 13187.101302807214, 3733.5550903452922, 7446.169447236214, 2270.268621852911, 21749.79347495057, 4174.641962525922, 8786.738595891798, 2488.4442089647823, 3597.5161531482668, 4159.220497526606, 4942.9496693153005, 4210.493410939589, 5600.8097815884175, 33650.81037655997, 2220.517674751544, 12404.157106038598, 2867.304610915711, 12177.200638514936, 28727.86595402653, 22341.121794543124, 6468.0369810777875, 11128.229465977336, 5940.620173278943, 12510.017792244667, 8336.798610064032, 9994.611745293883, 4658.47970527896, 8106.913503104275, 7994.478220203208, 12539.927444017856, 47592.988710905076, 12103.619885960758, 17400.840157764833, 6152.543135264274, 5547.171081240202, 3696.9372432192304, 2872.087447896574, 2572.8441839267007, 2494.946994971288, 2438.3686097483296, 1878.1837220016505, 1792.8886079952304, 1372.0609620230193, 1408.0828523089356, 1269.950565465273, 907.9228610209083, 742.3401175041124, 733.6224618087007, 764.6443055493453, 605.0228123725434, 632.9791245001762, 476.6136991326255, 482.0412674336394, 456.24495200223157, 422.4686886109962, 438.61554321938854, 392.2099912790769, 402.36013510052845, 382.44185102700226, 348.27781269573984, 331.3538337174855, 339.80387837938105, 300.80033355172714, 3192.844167003455, 2125.100429505405, 2780.8404817390524, 1595.9025738268915, 1573.7084116811238, 1720.7772469413196, 1815.5922393512255, 1057.9184103506336, 3093.9635531974072, 4041.667384307195, 2377.709734596326, 1226.1467797073965, 20863.3971961803, 8660.294269471877, 4595.768526544308, 5784.7269688867145, 5246.558911058023, 1448.2525749258073, 33650.81037655997, 24528.56329316635, 47592.988710905076, 12539.927444017856, 15738.462346047352, 28727.86595402653, 8440.644889809559, 12575.23969606175, 6551.33769531136, 12510.017792244667, 9019.21686308821, 15893.707139669572, 17400.840157764833, 22341.121794543124, 21749.79347495057, 12404.157106038598, 22335.760593561252, 8197.434375496252, 12177.200638514936, 14109.67139161353, 7404.901057862978, 4142.3951060798245, 3987.468768308062, 1993.1672680874858, 1905.5988975207813, 1862.120899221475, 1535.7945312781499, 1482.2518488557291, 1348.7466900334189, 1314.5862450931093, 1255.598100673404, 1234.4281765527303, 1161.9559645935917, 1121.5410484530266, 1046.9748858485284, 1048.5607220444679, 927.1321965290555, 906.4628631236363, 854.0605354491169, 809.1823607585807, 817.3858411258151, 790.605227859229, 760.6978601074225, 737.3178120549211, 724.1995579882466, 700.6133098069719, 701.7334143349864, 661.2963592982835, 663.0898622444843, 648.6350398433021, 646.4624558363906, 2535.937449935539, 1085.024661887635, 2002.2592098111609, 4986.773831504044, 2974.49057433261, 1395.824029443541, 14109.67139161353, 5675.3346335653205, 5310.645050426676, 3229.124122885705, 3968.2847364388986, 11794.503416920357, 8440.644889809559, 28727.86595402653, 4668.726895656435, 3495.4307564125484, 47592.988710905076, 33650.81037655997, 6244.24121925392, 4202.735390819069, 12575.23969606175, 22335.760593561252, 7588.300988055198, 7701.224199837532, 11128.229465977336, 5576.586109484032, 12510.017792244667, 22341.121794543124, 12145.584042635655, 12177.200638514936, 10166.991770191855, 15738.462346047352, 7501.4932996647385], \"Category\": [\"Default\", \"Default\", \"Default\", \"Default\", \"Default\", \"Default\", \"Default\", \"Default\", \"Default\", \"Default\", \"Default\", \"Default\", \"Default\", \"Default\", \"Default\", \"Default\", \"Default\", \"Default\", \"Default\", \"Default\", \"Default\", \"Default\", \"Default\", \"Default\", \"Default\", \"Default\", \"Default\", \"Default\", \"Default\", \"Default\", \"Topic1\", \"Topic1\", \"Topic1\", \"Topic1\", \"Topic1\", \"Topic1\", \"Topic1\", \"Topic1\", \"Topic1\", \"Topic1\", \"Topic1\", \"Topic1\", \"Topic1\", \"Topic1\", \"Topic1\", \"Topic1\", \"Topic1\", \"Topic1\", \"Topic1\", \"Topic1\", \"Topic1\", \"Topic1\", \"Topic1\", \"Topic1\", \"Topic1\", \"Topic1\", \"Topic1\", \"Topic1\", \"Topic1\", \"Topic1\", \"Topic1\", \"Topic1\", \"Topic1\", \"Topic1\", \"Topic1\", \"Topic1\", \"Topic1\", \"Topic1\", \"Topic1\", \"Topic1\", \"Topic1\", \"Topic1\", \"Topic1\", \"Topic1\", \"Topic1\", \"Topic1\", \"Topic1\", \"Topic1\", \"Topic1\", \"Topic1\", \"Topic1\", \"Topic1\", \"Topic1\", \"Topic1\", \"Topic1\", \"Topic1\", \"Topic1\", \"Topic1\", \"Topic1\", \"Topic1\", \"Topic1\", \"Topic1\", \"Topic1\", \"Topic1\", \"Topic1\", \"Topic1\", \"Topic1\", \"Topic1\", \"Topic1\", \"Topic1\", \"Topic1\", \"Topic1\", \"Topic1\", \"Topic1\", \"Topic1\", \"Topic1\", \"Topic2\", \"Topic2\", \"Topic2\", \"Topic2\", \"Topic2\", \"Topic2\", \"Topic2\", \"Topic2\", \"Topic2\", \"Topic2\", \"Topic2\", \"Topic2\", \"Topic2\", \"Topic2\", \"Topic2\", \"Topic2\", \"Topic2\", \"Topic2\", \"Topic2\", \"Topic2\", \"Topic2\", \"Topic2\", \"Topic2\", \"Topic2\", \"Topic2\", \"Topic2\", \"Topic2\", \"Topic2\", \"Topic2\", \"Topic2\", \"Topic2\", \"Topic2\", \"Topic2\", \"Topic2\", \"Topic2\", \"Topic2\", \"Topic2\", \"Topic2\", \"Topic2\", \"Topic2\", \"Topic2\", \"Topic2\", \"Topic2\", \"Topic2\", \"Topic2\", \"Topic2\", \"Topic2\", \"Topic2\", \"Topic2\", \"Topic2\", \"Topic2\", \"Topic2\", \"Topic2\", \"Topic2\", \"Topic2\", \"Topic2\", \"Topic2\", \"Topic2\", \"Topic2\", \"Topic2\", \"Topic2\", \"Topic2\", \"Topic2\", \"Topic3\", \"Topic3\", \"Topic3\", \"Topic3\", \"Topic3\", \"Topic3\", \"Topic3\", \"Topic3\", \"Topic3\", \"Topic3\", \"Topic3\", \"Topic3\", \"Topic3\", \"Topic3\", \"Topic3\", \"Topic3\", \"Topic3\", \"Topic3\", \"Topic3\", \"Topic3\", \"Topic3\", \"Topic3\", \"Topic3\", \"Topic3\", \"Topic3\", \"Topic3\", \"Topic3\", \"Topic3\", \"Topic3\", \"Topic3\", \"Topic3\", \"Topic3\", \"Topic3\", \"Topic3\", \"Topic3\", \"Topic3\", \"Topic3\", \"Topic3\", \"Topic3\", \"Topic3\", \"Topic3\", \"Topic3\", \"Topic3\", \"Topic3\", \"Topic3\", \"Topic3\", \"Topic3\", \"Topic3\", \"Topic3\", \"Topic3\", \"Topic3\", \"Topic3\", \"Topic3\", \"Topic3\", \"Topic3\", \"Topic3\", \"Topic3\", \"Topic3\", \"Topic3\", \"Topic3\", \"Topic3\", \"Topic3\", \"Topic3\", \"Topic3\", \"Topic3\", \"Topic3\", \"Topic3\", \"Topic3\", \"Topic3\", \"Topic4\", \"Topic4\", \"Topic4\", \"Topic4\", \"Topic4\", \"Topic4\", \"Topic4\", \"Topic4\", \"Topic4\", \"Topic4\", \"Topic4\", \"Topic4\", \"Topic4\", \"Topic4\", \"Topic4\", \"Topic4\", \"Topic4\", \"Topic4\", \"Topic4\", \"Topic4\", \"Topic4\", \"Topic4\", \"Topic4\", \"Topic4\", \"Topic4\", \"Topic4\", \"Topic4\", \"Topic4\", \"Topic4\", \"Topic4\", \"Topic4\", \"Topic4\", \"Topic4\", \"Topic4\", \"Topic4\", \"Topic4\", \"Topic4\", \"Topic4\", \"Topic4\", \"Topic4\", \"Topic4\", \"Topic4\", \"Topic4\", \"Topic4\", \"Topic4\", \"Topic4\", \"Topic4\", \"Topic4\", \"Topic4\", \"Topic4\", \"Topic4\", \"Topic4\", \"Topic4\", \"Topic4\", \"Topic4\", \"Topic4\", \"Topic4\", \"Topic4\", \"Topic4\", \"Topic4\", \"Topic4\", \"Topic4\", \"Topic4\"], \"logprob\": [30.0, 29.0, 28.0, 27.0, 26.0, 25.0, 24.0, 23.0, 22.0, 21.0, 20.0, 19.0, 18.0, 17.0, 16.0, 15.0, 14.0, 13.0, 12.0, 11.0, 10.0, 9.0, 8.0, 7.0, 6.0, 5.0, 4.0, 3.0, 2.0, 1.0, -5.8399, -6.0152, -6.3319, -6.345, -6.4393, -6.5482, -6.5991, -6.5991, -6.6856, -6.6808, -6.7406, -6.7, -6.7781, -6.8374, -6.9662, -6.9781, -7.0082, -6.9869, -7.136, -7.1052, -7.1437, -7.1759, -7.1676, -7.1941, -7.2679, -7.3063, -7.3194, -7.3667, -7.3497, -7.376, -7.2683, -6.4912, -6.2999, -5.6847, -6.2432, -5.9464, -6.43, -5.6155, -4.9628, -4.064, -6.4581, -5.8351, -3.598, -4.759, -5.8196, -4.3506, -4.4182, -5.0989, -5.3493, -4.6664, -4.6641, -5.5381, -5.7368, -5.1649, -5.1258, -4.904, -5.9589, -6.0364, -5.3041, -5.8808, -5.5404, -4.8556, -5.7124, -5.4805, -5.4464, -5.5287, -5.6906, -5.5449, -5.2825, -5.3589, -5.1396, -5.104, -5.4093, -5.6117, -5.5962, -5.6406, -5.0917, -5.1961, -5.3136, -5.3942, -5.6072, -5.5982, -5.6706, -5.6146, -5.684, -5.6955, -5.8645, -6.0094, -6.032, -6.0461, -6.1918, -6.2187, -6.2419, -6.2929, -6.3047, -6.3204, -6.3526, -6.3661, -6.4262, -6.3855, -6.4555, -6.3815, -6.4427, -6.477, -6.549, -6.5746, -3.9451, -5.1571, -4.6518, -5.707, -3.8079, -5.2094, -4.5941, -5.6612, -5.3727, -5.2629, -5.1746, -5.3163, -5.1208, -3.8979, -5.8006, -4.6357, -5.6367, -4.7135, -4.1734, -4.3653, -5.1489, -4.8858, -5.2286, -4.8719, -5.0803, -5.0398, -5.3697, -5.1866, -5.1983, -5.0794, -4.8161, -5.1627, -5.1172, -4.5689, -4.6725, -5.0784, -5.3309, -5.4409, -5.4717, -5.4946, -5.7557, -5.8022, -6.0699, -6.044, -6.1473, -6.4831, -6.6846, -6.6965, -6.6551, -6.8894, -6.8443, -7.1283, -7.117, -7.172, -7.2491, -7.2116, -7.3236, -7.298, -7.3488, -7.4427, -7.4925, -7.4674, -7.5895, -5.2862, -5.726, -5.5211, -6.0479, -6.0765, -6.0285, -5.9936, -6.4585, -5.5363, -5.3358, -5.7849, -6.3401, -4.0065, -4.7642, -5.2899, -5.134, -5.216, -6.2163, -4.0897, -4.3051, -3.8946, -4.8059, -4.7081, -4.3679, -5.1308, -4.9443, -5.2868, -5.0041, -5.1605, -4.9187, -4.894, -4.7978, -4.8422, -5.0686, -4.8855, -5.2126, -5.1295, -5.1913, -5.3153, -4.8435, -4.8816, -5.5752, -5.6201, -5.6432, -5.836, -5.8715, -5.9659, -5.9916, -6.0375, -6.0546, -6.1151, -6.1505, -6.2194, -6.2178, -6.341, -6.3636, -6.4232, -6.4772, -6.4671, -6.5005, -6.5391, -6.5703, -6.5883, -6.6214, -6.6199, -6.6792, -6.6766, -6.6986, -6.702, -5.3958, -6.2368, -5.7227, -5.1374, -5.5377, -6.116, -4.4806, -5.1373, -5.1894, -5.5498, -5.4328, -4.7659, -5.0136, -4.3222, -5.404, -5.6043, -4.2175, -4.4167, -5.3057, -5.5122, -4.9716, -4.7115, -5.2328, -5.2529, -5.1218, -5.4279, -5.1639, -5.0891, -5.2967, -5.3631, -5.4043, -5.4642, -5.5076], \"loglift\": [30.0, 29.0, 28.0, 27.0, 26.0, 25.0, 24.0, 23.0, 22.0, 21.0, 20.0, 19.0, 18.0, 17.0, 16.0, 15.0, 14.0, 13.0, 12.0, 11.0, 10.0, 9.0, 8.0, 7.0, 6.0, 5.0, 4.0, 3.0, 2.0, 1.0, 1.1201, 1.12, 1.1199, 1.1198, 1.1198, 1.1197, 1.1197, 1.1197, 1.1196, 1.1196, 1.1196, 1.1196, 1.1196, 1.1195, 1.1194, 1.1194, 1.1194, 1.1194, 1.1192, 1.1192, 1.1192, 1.1192, 1.1191, 1.1191, 1.1191, 1.119, 1.1189, 1.1189, 1.1189, 1.1189, 1.1189, 1.0949, 1.0272, 0.9546, 0.9947, 0.9425, 1.001, 0.8672, 0.7575, 0.584, 0.9901, 0.8702, 0.3872, 0.5919, 0.8121, 0.3911, 0.3917, 0.5699, 0.6466, 0.4156, 0.3273, 0.6583, 0.7294, 0.4854, 0.4029, 0.1878, 0.7743, 0.8044, 0.3186, 0.7022, 0.4479, -0.1141, 0.5637, 0.3438, 0.3115, 0.3364, 0.4785, 0.2879, -0.0815, -0.0046, -0.6496, -0.7722, -0.0931, 0.2048, -0.0503, -0.2603, 1.4402, 1.4401, 1.4401, 1.4401, 1.44, 1.44, 1.44, 1.44, 1.44, 1.44, 1.4399, 1.4398, 1.4398, 1.4398, 1.4398, 1.4397, 1.4397, 1.4397, 1.4397, 1.4397, 1.4396, 1.4396, 1.4396, 1.4396, 1.4396, 1.4396, 1.4396, 1.4395, 1.4395, 1.4395, 1.3235, 1.3734, 1.1883, 1.3209, 0.9603, 1.2094, 1.0806, 1.275, 1.195, 1.1596, 1.0754, 1.094, 1.0042, 0.4339, 1.2495, 0.6942, 1.1578, 0.6348, 0.3166, 0.3761, 0.8321, 0.5526, 0.8375, 0.4494, 0.6469, 0.5061, 0.9395, 0.5685, 0.5708, 0.2396, -0.8309, 0.1917, -0.1258, 1.4621, 1.4621, 1.462, 1.462, 1.4619, 1.4619, 1.4619, 1.4618, 1.4618, 1.4617, 1.4617, 1.4617, 1.4614, 1.4612, 1.4612, 1.4612, 1.461, 1.461, 1.4606, 1.4606, 1.4606, 1.4604, 1.4604, 1.4603, 1.4603, 1.4603, 1.46, 1.4599, 1.4599, 1.4597, 1.4008, 1.3681, 1.304, 1.3326, 1.318, 1.2766, 1.2579, 1.3331, 1.1821, 1.1155, 1.1969, 1.3039, 0.8033, 0.9249, 1.0328, 0.9586, 0.9743, 1.2612, 0.2422, 0.343, 0.0906, 0.5131, 0.3836, 0.1221, 0.5841, 0.3718, 0.6814, 0.3173, 0.488, 0.1633, 0.0973, -0.0563, -0.0739, 0.2612, -0.1438, 0.5315, 0.2188, 0.0098, 0.5305, 1.5832, 1.5832, 1.583, 1.5829, 1.5829, 1.5829, 1.5828, 1.5828, 1.5828, 1.5827, 1.5827, 1.5827, 1.5827, 1.5826, 1.5826, 1.5825, 1.5825, 1.5824, 1.5824, 1.5824, 1.5824, 1.5823, 1.5823, 1.5823, 1.5823, 1.5822, 1.5822, 1.5822, 1.5822, 1.5821, 1.5215, 1.5295, 1.4309, 1.1037, 1.2201, 1.3984, 0.7205, 0.9744, 0.9888, 1.1259, 1.0368, 0.6144, 0.7012, 0.1678, 0.903, 0.9921, -0.2323, -0.0849, 0.7105, 0.9, 0.3446, 0.0302, 0.5885, 0.5536, 0.3166, 0.7014, 0.1575, -0.3476, 0.0542, -0.0148, 0.1245, -0.3724, 0.3252]}, \"token.table\": {\"Topic\": [1, 2, 3, 4, 1, 3, 2, 1, 3, 2, 2, 1, 3, 1, 2, 3, 4, 1, 2, 3, 4, 4, 1, 2, 3, 4, 2, 3, 1, 2, 3, 4, 2, 3, 2, 3, 4, 1, 1, 1, 1, 3, 4, 1, 2, 3, 4, 3, 1, 2, 3, 4, 2, 3, 4, 2, 3, 2, 3, 2, 1, 1, 2, 3, 1, 2, 3, 4, 2, 3, 1, 2, 3, 4, 4, 4, 2, 4, 1, 2, 2, 4, 1, 3, 4, 1, 2, 4, 1, 2, 4, 1, 1, 3, 2, 1, 2, 3, 4, 1, 2, 3, 4, 1, 4, 3, 2, 4, 1, 2, 3, 1, 3, 4, 2, 1, 2, 3, 4, 1, 2, 3, 4, 1, 3, 4, 2, 3, 1, 2, 3, 4, 1, 2, 3, 4, 1, 2, 3, 4, 1, 2, 3, 4, 1, 2, 3, 4, 1, 3, 4, 4, 4, 1, 3, 3, 2, 3, 1, 2, 3, 4, 1, 3, 4, 3, 1, 4, 1, 2, 3, 4, 2, 3, 4, 2, 1, 2, 3, 4, 1, 3, 4, 4, 1, 2, 3, 4, 1, 4, 1, 3, 1, 2, 3, 4, 2, 3, 2, 3, 4, 1, 2, 3, 4, 4, 3, 1, 4, 1, 2, 3, 4, 1, 2, 3, 4, 1, 2, 1, 2, 3, 4, 1, 3, 1, 2, 3, 4, 1, 2, 3, 4, 1, 4, 2, 1, 3, 1, 2, 3, 4, 2, 1, 2, 3, 4, 2, 1, 2, 3, 4, 1, 2, 3, 4, 2, 1, 2, 3, 4, 2, 1, 4, 2, 3, 4, 4, 3, 1, 2, 3, 4, 1, 2, 3, 4, 4, 1, 4, 1, 2, 3, 4, 1, 2, 1, 2, 3, 4, 3, 2, 3, 4, 1, 2, 3, 4, 4, 1, 2, 1, 2, 3, 1, 3, 1, 1, 4, 1, 2, 3, 4, 1, 1, 2, 3, 4, 3, 1, 2, 3, 4, 3, 4, 3, 3, 4, 3, 4, 1, 3, 4, 1, 2, 3, 4, 1, 4, 3, 3, 1, 3, 1, 2, 3, 4, 3, 2, 3, 1, 2, 3, 4, 3, 1, 2, 3, 4, 1, 2, 3, 4, 2, 1, 3, 2, 4, 1, 3, 2, 3, 1, 2, 3, 4, 1, 1, 4, 3, 3, 3, 2, 1, 2, 3, 1, 2, 4, 1, 1, 2, 3, 4, 3, 4, 3, 4, 1, 1, 1, 1, 2, 3, 1, 2, 3, 4, 1, 1, 2, 3, 4, 1, 2, 3, 4, 2, 1, 2, 3, 4, 1, 4, 4, 1, 2, 3, 4, 3, 1, 2, 3, 4, 3, 1, 3, 4, 3, 1, 1, 2, 3, 4, 2, 4, 2, 1, 2, 3, 4, 2, 4, 4, 2, 4, 1, 4, 3, 1, 2, 3, 4, 2, 1, 2, 3, 3, 1, 2, 3, 4, 4, 1, 1, 2, 3, 4], \"Freq\": [0.17035724156579934, 0.32505024964066903, 0.26180155574507086, 0.24279561910940956, 0.18451279573639684, 0.8151610080294547, 0.9996355455969793, 0.8818090525272791, 0.11790053259298804, 0.999717632165658, 0.9997508460491955, 0.14598578486885228, 0.8538945070261919, 0.4484989208953981, 0.12457703102683546, 0.2580138335577477, 0.16876784255326713, 0.2909880739107687, 0.34496924867409545, 0.21901317422633307, 0.14502405160296733, 0.999517584796586, 0.30135654140035256, 0.1851602001981563, 0.37752723453576176, 0.13604285367852562, 0.059508071819965654, 0.9405407351334572, 0.14017448638018634, 0.6059916922684012, 0.10303790729324569, 0.15090760172323275, 0.24402355975388182, 0.755665010204736, 0.12099231731639497, 0.8790848055019321, 0.9995540459248698, 0.9985689391203186, 0.9995701872565184, 0.9993211347049802, 0.7346728490195368, 0.2030056077363383, 0.06223529580238109, 0.584869151467864, 0.019609791011852964, 0.3265172894260507, 0.06902157210616854, 0.999620434833607, 0.6582745071177936, 0.04431779486170394, 0.06266592649234569, 0.23457380592405078, 0.2689430489941112, 0.6508160675901186, 0.08007365860018845, 0.9992804863050153, 0.9963310534028874, 0.7540182482772688, 0.24587551574258765, 0.9989773173711823, 0.998035998956554, 0.8371123842041583, 0.08432450756635294, 0.07857510932319252, 0.06627184086338526, 0.1288275037344312, 0.17218291364505706, 0.6329889846951379, 0.9992625005967563, 0.9991049433850139, 0.12300347781696519, 0.6941199545888282, 0.1432343129842292, 0.039450128576164825, 0.9994893744217592, 0.9989548533388831, 0.1683593311498478, 0.8310503154630785, 0.9993674736772364, 0.9990449753454257, 0.935301586691479, 0.06454973722584377, 0.35611549423741073, 0.3937932427744747, 0.25010462469764305, 0.25008945442453945, 0.7072805273278998, 0.04275033408966486, 0.3855883952575079, 0.5442145755037802, 0.07003670531341262, 0.9981577857351027, 0.9980189554630462, 0.9992267384231565, 0.9995033645186728, 0.18325464882145356, 0.30095867913497204, 0.3870835793643758, 0.1287088786761645, 0.14730012840500822, 0.6465136544903453, 0.20604163415682364, 0.999234475262872, 0.059544055396097514, 0.9400862785714998, 0.9976342872152756, 0.9989880939151145, 0.9985388203995547, 0.24150029921137428, 0.6978698561565255, 0.060659594476749526, 0.2643735524597443, 0.3785112502063628, 0.35708608510034223, 0.9988015195369603, 0.04670801815314712, 0.2689527058360955, 0.45807438718168136, 0.2263659834023437, 0.4879516096929411, 0.22838613942894762, 0.05114590547073763, 0.2325171548708149, 0.7786128098592259, 0.11323537382221432, 0.10813180767811453, 0.13407820561535788, 0.8654716400384713, 0.5299238044928047, 0.09318928358194575, 0.23691625969045327, 0.13995053315047873, 0.5895146725645845, 0.047012971792510856, 0.1468023269808176, 0.21670427628351763, 0.9993179798075684, 0.4181616096806647, 0.348591359574501, 0.23325770026729703, 0.4349800592564459, 0.1868961210780071, 0.09398128770327746, 0.2842100785579965, 0.2889438663150433, 0.09124543146790841, 0.1130929291433231, 0.5063478873007875, 0.3859672662270055, 0.6139262046998443, 0.9983563883169693, 0.9996857169042443, 0.9991554411912553, 0.23299732172482984, 0.7667041832208751, 0.9997464811660113, 0.9988622379440021, 0.9991573787384941, 0.45656034058650485, 0.2607736082843306, 0.23585279355388505, 0.046812580156638015, 0.3238777933128498, 0.12427868813167495, 0.5517220548875873, 0.9984531488286452, 0.8777175471187987, 0.12203559478657094, 0.2513882861525497, 0.12395604531366869, 0.24519896241253752, 0.37949880904513067, 0.7771781237328615, 0.1306712138227189, 0.09199360890910838, 0.9989094222001007, 0.3246962509586483, 0.28685633163573204, 0.22406519913482292, 0.1643310033477739, 0.08562042432850665, 0.8175369548786442, 0.09597773372308407, 0.9996531377354606, 0.09965289527561966, 0.5472492610490532, 0.04494480243005143, 0.3082169784622628, 0.9112809567961558, 0.08851425199649754, 0.9994037398346642, 0.9996213736815812, 0.17499578602447421, 0.41916431663188924, 0.3452382912276975, 0.0605417873022484, 0.7551895846512301, 0.24475740120183134, 0.8475174940238523, 0.10890338590823329, 0.04340061135826271, 0.13535760711432185, 0.6187644961088802, 0.2152204344096945, 0.030666957861838543, 0.9994652459960787, 0.9972713078867654, 0.9751857907223547, 0.024629791083753235, 0.3006448472302019, 0.04344537749931961, 0.2340238768397281, 0.4219091880154153, 0.6226850397762759, 0.02746216783287507, 0.22001119600966199, 0.12993528551783176, 0.9997640713075014, 0.9995500786542124, 0.676308440162892, 0.11225765791043919, 0.09794292300910802, 0.11326220071053261, 0.8472124241687955, 0.15259977044422082, 0.629928543458184, 0.06634863806287114, 0.1725831625912833, 0.1311632035693753, 0.44540679616698164, 0.17897907082855385, 0.19060590749606185, 0.18503986866587185, 0.998823247020806, 0.9991246101117593, 0.9997410546180944, 0.9988759514021441, 0.997339319600224, 0.310167125947607, 0.39291171083750087, 0.2714462621599541, 0.025513747456980575, 0.9995602574925505, 0.17424054609632736, 0.24006119356470104, 0.16799479122706565, 0.41782498599753504, 0.9990378783833872, 0.7291120004031585, 0.11725699004479653, 0.10483724655095517, 0.048583114255320685, 0.21152959823420703, 0.34547394590500247, 0.3942697009763305, 0.04879575507132804, 0.9988451048004433, 0.2971712738939151, 0.07705618528316932, 0.3360572125971863, 0.2896962672720184, 0.9998539746324244, 0.1413403412571595, 0.858530200074407, 0.27042960979463576, 0.5842757581387092, 0.1451451833953276, 0.9995518510058062, 0.9988905956260636, 0.26577928328300215, 0.053536561091025496, 0.1758378606500793, 0.5049092561562494, 0.11480165468990167, 0.055801423487041986, 0.41548957997676483, 0.4138309389389334, 0.9998824396289225, 0.8871333431752492, 0.11204507306076698, 0.6957119870160066, 0.058968738625500554, 0.11364884171460107, 0.13163728521450124, 0.9978311484966874, 0.9998480855070506, 0.576673216198356, 0.17661112232404036, 0.2097610639261825, 0.03699669250477976, 0.998309464781117, 0.9994440208050551, 0.8536987344615227, 0.14599902535441373, 0.20109444079764238, 0.0871913239548675, 0.13280297030119992, 0.5788395119200308, 0.9991772798430222, 0.9993247526866336, 0.999440250147768, 0.12249395854524525, 0.8263838747445774, 0.05088903424857615, 0.12156130529622373, 0.8784997423984828, 0.9992223973433781, 0.9989971942684021, 0.9994143652135097, 0.7761985677152066, 0.044682483338868796, 0.1475798592563781, 0.031405402575319215, 0.999199666075134, 0.4524494178797916, 0.20884049086436718, 0.25538996736412983, 0.08327184129401982, 0.9991515229684135, 0.06249383767177604, 0.4468186212511609, 0.28840782904504264, 0.20226323546068908, 0.3042537797259808, 0.6955812930972975, 0.9989835468842908, 0.051611730098904754, 0.9474439025298944, 0.45600835318043337, 0.5439326840293655, 0.0806132408613274, 0.30019408350598786, 0.6190374988530291, 0.07026368903687077, 0.37122249361459375, 0.318224967071425, 0.2402874280373533, 0.9993263252785847, 0.9999046189294584, 0.9997888867635322, 0.9985966224204675, 0.9984933620369006, 0.9992309740104001, 0.25537380709063906, 0.45221195525209457, 0.18592268717261182, 0.10639575711103656, 0.9988446582772892, 0.7938405328525037, 0.20600569048073422, 0.05031249125639168, 0.7824843253411192, 0.08255696079087474, 0.08505868687544671, 0.9992514941202261, 0.34073053737798953, 0.03862184932496103, 0.06694453882993245, 0.5535798403244414, 0.4822759428709696, 0.10548107328295621, 0.20070952951082033, 0.21158894411513204, 0.998975640265811, 0.08940753922120308, 0.9100746360726671, 0.9990231121289718, 0.9987582432332397, 0.4825676233515443, 0.5174133387047994, 0.8897330604036786, 0.11025925763461593, 0.4942207586293366, 0.16138462710175028, 0.27281237548272486, 0.07153774698428463, 0.9993494192260616, 0.9993111926193193, 0.9983436085053975, 0.9999117218274894, 0.9987123762205274, 0.9989321574658854, 0.9992163793746482, 0.4002805960017503, 0.29535776611924697, 0.30427620665925975, 0.9991240536944012, 0.9997527171922072, 0.99944638230519, 0.9989489118771135, 0.510532538682258, 0.02663241736261932, 0.35992699722229965, 0.10294753144263959, 0.9978398790643319, 0.9990209597010739, 0.999369751751235, 0.999398052391795, 0.9993149622286114, 0.9986468456787373, 0.9993555060145844, 0.2249245939203536, 0.4741958643152401, 0.30086687616873103, 0.4599933347795693, 0.21915774398405916, 0.23951377086798262, 0.08129192554294112, 0.9995073125932943, 0.15069473641955108, 0.3655186862473829, 0.2952083438358944, 0.18858386853056028, 0.2743614049817948, 0.028153425217086133, 0.28350678514785466, 0.4140526039888655, 0.9992490935799702, 0.12861904153990847, 0.14759562143923924, 0.35396592784446124, 0.3697797444272368, 0.9995200698412707, 0.9995236527730624, 0.9990826054021975, 0.21625912626966354, 0.10752452161449298, 0.6043500443155425, 0.0719135064174101, 0.9998488293579338, 0.70753774959174, 0.044282612978620725, 0.13809614862221722, 0.11021450341345602, 0.9969149401953508, 0.29294840159217017, 0.7068864724229984, 0.9992846362039814, 0.9996718868822393, 0.9994446238375673, 0.09678089432759666, 0.41156592016749555, 0.20991659159634707, 0.2817159737391045, 0.8875601682568426, 0.11232151012679646, 0.9994189255548676, 0.5262473989299331, 0.10991479360628745, 0.1576876071261679, 0.20602025830448445, 0.9996863313157993, 0.9994826578282652, 0.998778818669771, 0.9994988454504098, 0.9995689619188294, 0.9996033636771731, 0.9990688546003295, 0.9995043707728033, 0.48038588496463464, 0.10318746800775579, 0.2536928301212876, 0.16273405410712047, 0.9994610717872304, 0.07206046001619902, 0.09704916792504224, 0.8304386884124871, 0.9995418306297982, 0.573183781135444, 0.17050140735949257, 0.11671350905728968, 0.1395577901894994, 0.9995279571697943, 0.9994989024731075, 0.39355814207323736, 0.12491690463609696, 0.34005863357700455, 0.14143694288909045], \"Term\": [\"-\", \"-\", \"-\", \"-\", \"adaptive\", \"adaptive\", \"admit\", \"aim\", \"aim\", \"algebra\", \"algebraic\", \"algorithm\", \"algorithm\", \"allow\", \"allow\", \"allow\", \"allow\", \"also\", \"also\", \"also\", \"also\", \"angular\", \"apply\", \"apply\", \"apply\", \"apply\", \"approximate\", \"approximate\", \"associate\", \"associate\", \"associate\", \"associate\", \"asymptotic\", \"asymptotic\", \"asymptotically\", \"asymptotically\", \"atomic\", \"automate\", \"automatic\", \"automatically\", \"available\", \"available\", \"available\", \"base\", \"base\", \"base\", \"base\", \"bayesian\", \"become\", \"become\", \"become\", \"become\", \"bind\", \"bind\", \"bind\", \"boolean\", \"boost\", \"bound\", \"bound\", \"bounded\", \"briefly\", \"build\", \"build\", \"build\", \"calculate\", \"calculate\", \"calculate\", \"calculate\", \"canonical\", \"causal\", \"certain\", \"certain\", \"certain\", \"certain\", \"charge\", \"circular\", \"coherent\", \"coherent\", \"collect\", \"commutative\", \"compact\", \"compact\", \"compare\", \"compare\", \"compare\", \"complete\", \"complete\", \"complete\", \"complex\", \"complex\", \"complex\", \"comprehensive\", \"conceptual\", \"conditional\", \"conjecture\", \"consider\", \"consider\", \"consider\", \"consider\", \"construct\", \"construct\", \"construct\", \"cool\", \"couple\", \"couple\", \"cumulative\", \"cyclic\", \"dark\", \"define\", \"define\", \"define\", \"demonstrate\", \"demonstrate\", \"demonstrate\", \"denote\", \"derive\", \"derive\", \"derive\", \"derive\", \"describe\", \"describe\", \"describe\", \"describe\", \"design\", \"design\", \"design\", \"deterministic\", \"deterministic\", \"develop\", \"develop\", \"develop\", \"develop\", \"different\", \"different\", \"different\", \"different\", \"digital\", \"dimensional\", \"dimensional\", \"dimensional\", \"discuss\", \"discuss\", \"discuss\", \"discuss\", \"due\", \"due\", \"due\", \"due\", \"efficient\", \"efficient\", \"elastic\", \"electric\", \"electromagnetic\", \"empirical\", \"empirical\", \"estimate\", \"euclidean\", \"evolutionary\", \"exist\", \"exist\", \"exist\", \"exist\", \"experimental\", \"experimental\", \"experimental\", \"exponentially\", \"extract\", \"extract\", \"find\", \"find\", \"find\", \"find\", \"finite\", \"finite\", \"finite\", \"finitely\", \"first\", \"first\", \"first\", \"first\", \"fit\", \"fit\", \"fit\", \"fluid\", \"free\", \"free\", \"free\", \"free\", \"future\", \"future\", \"fuzzy\", \"gaussian\", \"general\", \"general\", \"general\", \"general\", \"generalize\", \"generalize\", \"geometric\", \"geometric\", \"geometric\", \"give\", \"give\", \"give\", \"give\", \"gravitational\", \"greedy\", \"help\", \"help\", \"high\", \"high\", \"high\", \"high\", \"however\", \"however\", \"however\", \"however\", \"human\", \"hyperbolic\", \"identify\", \"identify\", \"identify\", \"identify\", \"implement\", \"implement\", \"important\", \"important\", \"important\", \"important\", \"include\", \"include\", \"include\", \"include\", \"increasingly\", \"inertial\", \"infinite\", \"interactive\", \"intractable\", \"introduce\", \"introduce\", \"introduce\", \"introduce\", \"invariant\", \"investigate\", \"investigate\", \"investigate\", \"investigate\", \"isomorphic\", \"key\", \"key\", \"key\", \"key\", \"know\", \"know\", \"know\", \"know\", \"lagrangian\", \"large\", \"large\", \"large\", \"large\", \"let\", \"light\", \"light\", \"linear\", \"linear\", \"linear\", \"liquid\", \"logistic\", \"long\", \"long\", \"long\", \"long\", \"low\", \"low\", \"low\", \"low\", \"magnetic\", \"major\", \"major\", \"make\", \"make\", \"make\", \"make\", \"manage\", \"manifold\", \"many\", \"many\", \"many\", \"many\", \"marginal\", \"maximal\", \"maximum\", \"maximum\", \"measure\", \"measure\", \"measure\", \"measure\", \"mechanical\", \"medical\", \"metric\", \"minimal\", \"minimal\", \"minimal\", \"minimize\", \"minimize\", \"mobile\", \"modern\", \"molecular\", \"need\", \"need\", \"need\", \"need\", \"neural\", \"new\", \"new\", \"new\", \"new\", \"noisy\", \"non\", \"non\", \"non\", \"non\", \"nonlinear\", \"nonlinear\", \"nonparametric\", \"nuclear\", \"nuclear\", \"numerical\", \"numerical\", \"observe\", \"observe\", \"observe\", \"obtain\", \"obtain\", \"obtain\", \"obtain\", \"operational\", \"optical\", \"optimal\", \"optimum\", \"outline\", \"parametric\", \"particular\", \"particular\", \"particular\", \"particular\", \"penalize\", \"polynomial\", \"polynomial\", \"positive\", \"positive\", \"positive\", \"positive\", \"posterior\", \"potential\", \"potential\", \"potential\", \"potential\", \"present\", \"present\", \"present\", \"present\", \"prime\", \"prior\", \"prior\", \"projective\", \"propagate\", \"propose\", \"propose\", \"prove\", \"prove\", \"provide\", \"provide\", \"provide\", \"provide\", \"public\", \"publish\", \"radial\", \"random\", \"randomize\", \"randomized\", \"rational\", \"real\", \"real\", \"real\", \"reason\", \"regular\", \"relativistic\", \"remote\", \"require\", \"require\", \"require\", \"require\", \"reversible\", \"rotate\", \"sample\", \"scatter\", \"scientific\", \"secure\", \"semantic\", \"set\", \"set\", \"set\", \"several\", \"several\", \"several\", \"several\", \"share\", \"show\", \"show\", \"show\", \"show\", \"single\", \"single\", \"single\", \"single\", \"singular\", \"small\", \"small\", \"small\", \"small\", \"social\", \"solar\", \"solid\", \"solve\", \"solve\", \"solve\", \"solve\", \"sparse\", \"specific\", \"specific\", \"specific\", \"specific\", \"squared\", \"statistical\", \"statistical\", \"steady\", \"stochastic\", \"store\", \"study\", \"study\", \"study\", \"study\", \"symmetric\", \"symmetric\", \"symplectic\", \"take\", \"take\", \"take\", \"take\", \"theorem\", \"thermal\", \"thin\", \"topological\", \"transverse\", \"try\", \"turbulent\", \"unknown\", \"use\", \"use\", \"use\", \"use\", \"value\", \"variable\", \"variable\", \"variable\", \"variational\", \"various\", \"various\", \"various\", \"various\", \"vertical\", \"visual\", \"well\", \"well\", \"well\", \"well\"]}, \"R\": 30, \"lambda.step\": 0.01, \"plot.opts\": {\"xlab\": \"PC1\", \"ylab\": \"PC2\"}, \"topic.order\": [1, 4, 2, 3]};\n",
       "\n",
       "function LDAvis_load_lib(url, callback){\n",
       "  var s = document.createElement('script');\n",
       "  s.src = url;\n",
       "  s.async = true;\n",
       "  s.onreadystatechange = s.onload = callback;\n",
       "  s.onerror = function(){console.warn(\"failed to load library \" + url);};\n",
       "  document.getElementsByTagName(\"head\")[0].appendChild(s);\n",
       "}\n",
       "\n",
       "if(typeof(LDAvis) !== \"undefined\"){\n",
       "   // already loaded: just create the visualization\n",
       "   !function(LDAvis){\n",
       "       new LDAvis(\"#\" + \"ldavis_el455222215427989447509428777\", ldavis_el455222215427989447509428777_data);\n",
       "   }(LDAvis);\n",
       "}else if(typeof define === \"function\" && define.amd){\n",
       "   // require.js is available: use it to load d3/LDAvis\n",
       "   require.config({paths: {d3: \"https://d3js.org/d3.v5\"}});\n",
       "   require([\"d3\"], function(d3){\n",
       "      window.d3 = d3;\n",
       "      LDAvis_load_lib(\"https://cdn.jsdelivr.net/gh/bmabey/pyLDAvis@3.3.1/pyLDAvis/js/ldavis.v3.0.0.js\", function(){\n",
       "        new LDAvis(\"#\" + \"ldavis_el455222215427989447509428777\", ldavis_el455222215427989447509428777_data);\n",
       "      });\n",
       "    });\n",
       "}else{\n",
       "    // require.js not available: dynamically load d3 & LDAvis\n",
       "    LDAvis_load_lib(\"https://d3js.org/d3.v5.js\", function(){\n",
       "         LDAvis_load_lib(\"https://cdn.jsdelivr.net/gh/bmabey/pyLDAvis@3.3.1/pyLDAvis/js/ldavis.v3.0.0.js\", function(){\n",
       "                 new LDAvis(\"#\" + \"ldavis_el455222215427989447509428777\", ldavis_el455222215427989447509428777_data);\n",
       "            })\n",
       "         });\n",
       "}\n",
       "</script>"
      ],
      "text/plain": [
       "PreparedData(topic_coordinates=              x         y  topics  cluster       Freq\n",
       "topic                                                \n",
       "0      0.116752 -0.098726       1        1  32.615780\n",
       "3     -0.226328  0.015238       2        1  23.683943\n",
       "1      0.015787 -0.091599       3        1  23.171569\n",
       "2      0.093789  0.175088       4        1  20.528708, topic_info=          Term          Freq         Total Category  logprob  loglift\n",
       "165      prove  13187.000000  13187.000000  Default  30.0000  30.0000\n",
       "82     propose  20863.000000  20863.000000  Default  29.0000  29.0000\n",
       "134       give  21749.000000  21749.000000  Default  28.0000  28.0000\n",
       "114     random   6152.000000   6152.000000  Default  27.0000  27.0000\n",
       "141    optimal   5547.000000   5547.000000  Default  26.0000  26.0000\n",
       "..         ...           ...           ...      ...      ...      ...\n",
       "157  different   2632.224159  12145.584043   Topic4  -5.2967   0.0542\n",
       "183        non   2463.146439  12177.200639   Topic4  -5.3631  -0.0148\n",
       "9     describe   2363.850493  10166.991770   Topic4  -5.4043   0.1245\n",
       "267       well   2226.387898  15738.462346   Topic4  -5.4642  -0.3724\n",
       "407    discuss   2131.848955   7501.493300   Topic4  -5.5076   0.3252\n",
       "\n",
       "[301 rows x 6 columns], token_table=      Topic      Freq      Term\n",
       "term                           \n",
       "166       1  0.170357         -\n",
       "166       2  0.325050         -\n",
       "166       3  0.261802         -\n",
       "166       4  0.242796         -\n",
       "1233      1  0.184513  adaptive\n",
       "...     ...       ...       ...\n",
       "528       1  0.999499    visual\n",
       "267       1  0.393558      well\n",
       "267       2  0.124917      well\n",
       "267       3  0.340059      well\n",
       "267       4  0.141437      well\n",
       "\n",
       "[478 rows x 3 columns], R=30, lambda_step=0.01, plot_opts={'xlab': 'PC1', 'ylab': 'PC2'}, topic_order=[1, 4, 2, 3])"
      ]
     },
     "execution_count": 138,
     "metadata": {},
     "output_type": "execute_result"
    }
   ],
   "source": [
    "# Visualize the topics\n",
    "#https://github.com/bmabey/pyLDAvis\n",
    "#https://speakerdeck.com/bmabey/visualizing-topic-models\n",
    "pyLDAvis.enable_notebook()\n",
    "vis = gensimvis.prepare(lda_model, doc_term_matrix, dictionary)\n",
    "vis"
   ]
  },
  {
   "cell_type": "code",
   "execution_count": 140,
   "metadata": {},
   "outputs": [
    {
     "name": "stderr",
     "output_type": "stream",
     "text": [
      "C:\\Users\\Hp\\AppData\\Local\\Packages\\PythonSoftwareFoundation.Python.3.8_qbz5n2kfra8p0\\LocalCache\\local-packages\\Python38\\site-packages\\ipykernel\\ipkernel.py:287: DeprecationWarning: `should_run_async` will not call `transform_cell` automatically in the future. Please pass the result to `transformed_cell` argument and any exception that happen during thetransform in `preprocessing_exc_tuple` in IPython 7.17 and above.\n",
      "  and should_run_async(code)\n"
     ]
    }
   ],
   "source": [
    "pyLDAvis.save_html(vis, 'lda.html')"
   ]
  },
  {
   "cell_type": "code",
   "execution_count": 139,
   "metadata": {},
   "outputs": [
    {
     "name": "stderr",
     "output_type": "stream",
     "text": [
      "C:\\Users\\Hp\\AppData\\Local\\Packages\\PythonSoftwareFoundation.Python.3.8_qbz5n2kfra8p0\\LocalCache\\local-packages\\Python38\\site-packages\\ipykernel\\ipkernel.py:287: DeprecationWarning: `should_run_async` will not call `transform_cell` automatically in the future. Please pass the result to `transformed_cell` argument and any exception that happen during thetransform in `preprocessing_exc_tuple` in IPython 7.17 and above.\n",
      "  and should_run_async(code)\n"
     ]
    },
    {
     "name": "stdout",
     "output_type": "stream",
     "text": [
      "\n",
      "Perplexity:  -7.228020438547611\n",
      "\n",
      "Coherence Score:  0.4173140913498816\n"
     ]
    }
   ],
   "source": [
    "\n",
    "print('\\nPerplexity: ', lda_model.log_perplexity(doc_term_matrix,total_docs=80000))  # a measure of how good the model is. lower the better.\n",
    "\n",
    "# Compute Coherence Score\n",
    "from gensim.models.coherencemodel import CoherenceModel\n",
    "coherence_model_lda = CoherenceModel(model=lda_model, texts=tokenized_reviews, dictionary=dictionary , coherence='c_v')\n",
    "coherence_lda = coherence_model_lda.get_coherence()\n",
    "print('\\nCoherence Score: ', coherence_lda)\n"
   ]
  }
 ],
 "metadata": {
  "kernelspec": {
   "display_name": "Python 3",
   "language": "python",
   "name": "python3"
  },
  "language_info": {
   "codemirror_mode": {
    "name": "ipython",
    "version": 3
   },
   "file_extension": ".py",
   "mimetype": "text/x-python",
   "name": "python",
   "nbconvert_exporter": "python",
   "pygments_lexer": "ipython3",
   "version": "3.8.10"
  }
 },
 "nbformat": 4,
 "nbformat_minor": 4
}
